{
 "cells": [
  {
   "cell_type": "code",
   "execution_count": 1,
   "id": "5cccd667",
   "metadata": {},
   "outputs": [
    {
     "name": "stdout",
     "output_type": "stream",
     "text": [
      "Min Age = 19 Max age = 26\n",
      "Median =  24.0\n",
      "Average =  22.8\n",
      "Range =  7\n"
     ]
    }
   ],
   "source": [
    "import statistics\n",
    "ages = [19,22, 19, 24, 20, 25, 26, 24, 25, 24]\n",
    "\n",
    "ages.sort()\n",
    "\n",
    "print(\"Min Age =\",ages[0],\"Max age =\",ages[-1])\n",
    "print(\"Median = \",statistics.median(ages))\n",
    "print(\"Average = \",sum(ages)/len(ages))\n",
    "print(\"Range = \",max(ages)-min(ages))\n",
    "\n"
   ]
  },
  {
   "cell_type": "code",
   "execution_count": null,
   "id": "33a74d1e",
   "metadata": {},
   "outputs": [],
   "source": []
  }
 ],
 "metadata": {
  "kernelspec": {
   "display_name": "Python 3 (ipykernel)",
   "language": "python",
   "name": "python3"
  },
  "language_info": {
   "codemirror_mode": {
    "name": "ipython",
    "version": 3
   },
   "file_extension": ".py",
   "mimetype": "text/x-python",
   "name": "python",
   "nbconvert_exporter": "python",
   "pygments_lexer": "ipython3",
   "version": "3.9.13"
  }
 },
 "nbformat": 4,
 "nbformat_minor": 5
}
